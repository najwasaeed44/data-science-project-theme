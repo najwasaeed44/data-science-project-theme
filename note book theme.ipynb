{
 "cells": [
  {
   "cell_type": "markdown",
   "id": "31b49808",
   "metadata": {},
   "source": [
    "<hr style=\"height:4px;border-width:10;color:blue;background-color:black\">\n"
   ]
  },
  {
   "cell_type": "markdown",
   "id": "96b50f7d",
   "metadata": {},
   "source": [
    "\n",
    "<h1 align=\"center\">\n",
    "  <img src=\"img/logo.png\" width=\"100px\"/><br/>\n",
    " PROJECT TITLE</h1>\n",
    "\n",
    "\n"
   ]
  },
  {
   "cell_type": "markdown",
   "id": "eb0cb384",
   "metadata": {},
   "source": [
    "<hr style=\"height:4px;border-width:10;color:blue;background-color:black\">\n",
    "\n",
    "<br><br>"
   ]
  },
  {
   "cell_type": "markdown",
   "id": "0bc71a0c",
   "metadata": {},
   "source": [
    "<hr style=\"height:2px;border-width:10;color:blue;background-color:black\">\n",
    "\n",
    "<img src=\"https://media1.giphy.com/media/KEAj1Hni8vLc0JcHpC/giphy.gif?cid=790b761137e5bc4519fcfbd3ec0229bda95e6655ace51675&rid=giphy.gif&ct=s\" alt=\"Smiley face\" width=\"60\" height=\"60\" align=\"left\">\n",
    "\n",
    "## INTRODUCTION\n",
    "<hr style=\"height:2px;border-width:10;color:blue;background-color:black\">\n"
   ]
  },
  {
   "cell_type": "code",
   "execution_count": null,
   "id": "9690a264",
   "metadata": {},
   "outputs": [],
   "source": []
  },
  {
   "cell_type": "code",
   "execution_count": null,
   "id": "8e00cffc",
   "metadata": {},
   "outputs": [],
   "source": []
  },
  {
   "cell_type": "code",
   "execution_count": null,
   "id": "981c9619",
   "metadata": {},
   "outputs": [],
   "source": []
  },
  {
   "cell_type": "markdown",
   "id": "3e4a965e",
   "metadata": {},
   "source": [
    "<hr style=\"height:2px;border-width:10;color:blue;background-color:black\">\n",
    "\n",
    "<img src=\"https://www.lingpad.com/wp-content/uploads/2021/09/Reports-Analysis.gif\" alt=\"Smiley face\" width=\"60\" height=\"60\" align=\"left\">\n",
    "\n",
    "## ANALYSIS\n",
    "<hr style=\"height:2px;border-width:10;color:blue;background-color:black\">\n"
   ]
  },
  {
   "cell_type": "code",
   "execution_count": null,
   "id": "67ba683a",
   "metadata": {},
   "outputs": [],
   "source": []
  },
  {
   "cell_type": "code",
   "execution_count": null,
   "id": "68b3739e",
   "metadata": {},
   "outputs": [],
   "source": []
  },
  {
   "cell_type": "code",
   "execution_count": null,
   "id": "70d6f52e",
   "metadata": {},
   "outputs": [],
   "source": []
  },
  {
   "cell_type": "markdown",
   "id": "ad3f6613",
   "metadata": {},
   "source": [
    "<hr style=\"height:2px;border-width:10;color:blue;background-color:black\">\n",
    "\n",
    "<img src=\"https://1.bp.blogspot.com/-jDgZMgM9d9w/VxJ0CrqbUoI/AAAAAAAAAkM/qYSSmn0WkLMPwTV84Lu7UKWTftUXXJd3gCKgB/s1600/robotin506.gif\" alt=\"Smiley face\" width=\"60\" height=\"60\" align=\"left\">\n",
    "\n",
    "## CLEANING\n",
    "<hr style=\"height:2px;border-width:10;color:blue;background-color:black\">\n"
   ]
  },
  {
   "cell_type": "code",
   "execution_count": null,
   "id": "d2a423d0",
   "metadata": {},
   "outputs": [],
   "source": []
  },
  {
   "cell_type": "code",
   "execution_count": null,
   "id": "27d01f4c",
   "metadata": {},
   "outputs": [],
   "source": []
  },
  {
   "cell_type": "code",
   "execution_count": null,
   "id": "79e42925",
   "metadata": {},
   "outputs": [],
   "source": []
  },
  {
   "cell_type": "markdown",
   "id": "37f3b989",
   "metadata": {},
   "source": [
    "<hr style=\"height:2px;border-width:10;color:blue;background-color:black\">\n",
    "\n",
    "<img src=\"https://cdnb.artstation.com/p/assets/images/images/019/834/893/original/viktor-stambert-character-veo-run-animation-1.gif?1565197751\" alt=\"Smiley face\" width=\"60\" height=\"60\" align=\"left\">\n",
    "\n",
    "##   PREPARE\n",
    "<hr style=\"height:2px;border-width:10;color:blue;background-color:black\">\n"
   ]
  },
  {
   "cell_type": "code",
   "execution_count": null,
   "id": "a9929b8d",
   "metadata": {},
   "outputs": [],
   "source": []
  },
  {
   "cell_type": "code",
   "execution_count": null,
   "id": "95834392",
   "metadata": {},
   "outputs": [],
   "source": []
  },
  {
   "cell_type": "code",
   "execution_count": null,
   "id": "d2d08b3b",
   "metadata": {},
   "outputs": [],
   "source": []
  },
  {
   "cell_type": "markdown",
   "id": "8a515f50",
   "metadata": {},
   "source": [
    "<hr style=\"height:2px;border-width:10;color:blue;background-color:black\">\n",
    "\n",
    "<img src=\"https://cdn130.picsart.com/321303410037201.gif?to=crop&r=256\" alt=\"Smiley face\" width=\"60\" height=\"60\" align=\"left\">\n",
    "\n",
    "##   MACHINE LEARNING\n",
    "<hr style=\"height:2px;border-width:10;color:blue;background-color:black\">\n"
   ]
  },
  {
   "cell_type": "code",
   "execution_count": null,
   "id": "f968b141",
   "metadata": {},
   "outputs": [],
   "source": []
  },
  {
   "cell_type": "code",
   "execution_count": null,
   "id": "4963cd6c",
   "metadata": {},
   "outputs": [],
   "source": []
  },
  {
   "cell_type": "code",
   "execution_count": null,
   "id": "f8a8835b",
   "metadata": {},
   "outputs": [],
   "source": []
  },
  {
   "cell_type": "markdown",
   "id": "a3bf0646",
   "metadata": {},
   "source": [
    "<hr style=\"height:2px;border-width:10;color:blue;background-color:black\">\n",
    "\n",
    "<img src=\"https://media1.giphy.com/media/HL5fq93TXz4sW3u7EL/giphy.gif?cid=790b7611dead5ce6a99ec8a7ace650b2a30c46418e5f871c&rid=giphy.gif&ct=s\" alt=\"Smiley face\" width=\"60\" height=\"60\" align=\"left\">\n",
    "\n",
    "##   CONCLUSION\n",
    "<hr style=\"height:2px;border-width:10;color:blue;background-color:black\">\n"
   ]
  },
  {
   "cell_type": "code",
   "execution_count": null,
   "id": "9f497b80",
   "metadata": {},
   "outputs": [],
   "source": []
  },
  {
   "cell_type": "code",
   "execution_count": null,
   "id": "ad7eb0f4",
   "metadata": {},
   "outputs": [],
   "source": []
  },
  {
   "cell_type": "code",
   "execution_count": null,
   "id": "86ba63fd",
   "metadata": {},
   "outputs": [],
   "source": []
  }
 ],
 "metadata": {
  "kernelspec": {
   "display_name": "Python 3 (ipykernel)",
   "language": "python",
   "name": "python3"
  },
  "language_info": {
   "codemirror_mode": {
    "name": "ipython",
    "version": 3
   },
   "file_extension": ".py",
   "mimetype": "text/x-python",
   "name": "python",
   "nbconvert_exporter": "python",
   "pygments_lexer": "ipython3",
   "version": "3.9.7"
  }
 },
 "nbformat": 4,
 "nbformat_minor": 5
}
